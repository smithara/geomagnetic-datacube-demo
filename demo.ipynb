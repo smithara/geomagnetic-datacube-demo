{
 "cells": [
  {
   "cell_type": "code",
   "execution_count": null,
   "id": "f0b46440-888a-468d-a2c9-5d4b535b010e",
   "metadata": {},
   "outputs": [],
   "source": [
    "from chaosmagpy.plot_utils import nio_colormap\n",
    "from pathlib import Path\n",
    "import pooch\n",
    "import holoviews as hv\n",
    "import hvplot.xarray\n",
    "import xarray as xr"
   ]
  },
  {
   "cell_type": "markdown",
   "id": "fb81bb8c-ed50-48bd-aaca-c1b3b2839ca3",
   "metadata": {},
   "source": [
    "## Prepare access to data"
   ]
  },
  {
   "cell_type": "code",
   "execution_count": null,
   "id": "aa4dc71a-c288-4e68-8d74-8342fe8db510",
   "metadata": {},
   "outputs": [],
   "source": [
    "data = {\n",
    "    \"path\": Path(\"data\"),\n",
    "    \"fname\": \"SwA_20140501-20190501_proc1.nc\",\n",
    "    \"url\": \"https://drive.google.com/uc?export=download&confirm=no_antivirus&id=1qX-j_QWx0OQTh1HLUlHHcWdNhFOsczyM\",\n",
    "    \"known_hash\": \"1b7a8cbc0cb1657f8d4444ae7f6bbab91841318e1a172fa1f8a487b9d9492912\",\n",
    "}"
   ]
  },
  {
   "cell_type": "code",
   "execution_count": null,
   "id": "c421961f-50f1-471d-a9bb-72257fab177b",
   "metadata": {},
   "outputs": [],
   "source": [
    "def download_data(data=data):\n",
    "    full_path = data[\"path\"] / data[\"fname\"]\n",
    "    if full_path.exists():\n",
    "        return f\"Already found file: {full_path}\"\n",
    "    else:\n",
    "        return pooch.retrieve(\n",
    "            url=data[\"url\"],\n",
    "            known_hash=data[\"known_hash\"],\n",
    "            path=data[\"path\"],\n",
    "            fname=data[\"fname\"],\n",
    "            progressbar=True,\n",
    "        )"
   ]
  },
  {
   "cell_type": "code",
   "execution_count": null,
   "id": "33121186-be8e-461d-9177-a4915a1221b5",
   "metadata": {},
   "outputs": [],
   "source": [
    "download_data()"
   ]
  },
  {
   "cell_type": "markdown",
   "id": "3b4c7c6e-1378-4b73-8ed9-de22930cb6cf",
   "metadata": {},
   "source": [
    "## Open data"
   ]
  },
  {
   "cell_type": "code",
   "execution_count": null,
   "id": "d8f5f4a9-4520-41c3-a5db-04f6e79b87d0",
   "metadata": {},
   "outputs": [],
   "source": [
    "ds = xr.open_dataset(data[\"path\"] / data[\"fname\"])\n",
    "ds"
   ]
  },
  {
   "cell_type": "code",
   "execution_count": null,
   "id": "e9282433-df4f-425a-8379-54ff103617e6",
   "metadata": {},
   "outputs": [],
   "source": [
    "# Dataset downsampled by 1/30 (i.e. 5-minute sampling)\n",
    "_ds = ds.isel(Timestamp=slice(0, -1, 30))\n",
    "# Generate residuals to plot\n",
    "_ds[\"B_NEC_res_CHAOS-full\"] = (\n",
    "    _ds[\"B_NEC\"]\n",
    "    - _ds[\"B_NEC_CHAOS-MCO\"]\n",
    "    - _ds[\"B_NEC_CHAOS-MMA\"]\n",
    "    - _ds[\"B_NEC_CHAOS-Static_n16plus\"]\n",
    ")"
   ]
  },
  {
   "cell_type": "markdown",
   "id": "5bc740f5-85ae-4d93-b5db-a8527dac4303",
   "metadata": {},
   "source": [
    "## Visualise data with hvplot"
   ]
  },
  {
   "cell_type": "code",
   "execution_count": null,
   "id": "cd429fa3-87a8-48eb-a170-9c8945f383a3",
   "metadata": {},
   "outputs": [],
   "source": [
    "def plot_NEC_var(_ds=_ds, var=\"B_NEC\", qdmlt=False, **kwargs):\n",
    "    if qdmlt:\n",
    "        x, y = \"MLT\", \"QDLat\"\n",
    "    else:\n",
    "        x, y = \"Longitude\", \"Latitude\"\n",
    "    return (\n",
    "        _ds.drop(\"Timestamp\")\n",
    "        .hvplot.scatter(\n",
    "            x=x, y=y, c=var,\n",
    "            by=\"NEC\", subplots=True,\n",
    "            rasterize=True,\n",
    "            colorbar=True,\n",
    "            hover=True,\n",
    "            width=300, height=200,\n",
    "            **kwargs\n",
    "        )\n",
    "    )\n",
    "\n",
    "\n",
    "print(\"B_NEC: magnetic field measurements\")\n",
    "plot_NEC_var(_ds=_ds, var=\"B_NEC\", clim=(-50000, 50000), cmap=nio_colormap())"
   ]
  }
 ],
 "metadata": {
  "kernelspec": {
   "display_name": "Python [conda env:geomagcubes]",
   "language": "python",
   "name": "conda-env-geomagcubes-py"
  },
  "language_info": {
   "codemirror_mode": {
    "name": "ipython",
    "version": 3
   },
   "file_extension": ".py",
   "mimetype": "text/x-python",
   "name": "python",
   "nbconvert_exporter": "python",
   "pygments_lexer": "ipython3",
   "version": "3.8.15"
  }
 },
 "nbformat": 4,
 "nbformat_minor": 5
}
