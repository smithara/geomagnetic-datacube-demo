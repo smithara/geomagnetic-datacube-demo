{
 "cells": [
  {
   "cell_type": "markdown",
   "id": "f367d3ab-f734-4c40-90ad-b79379192680",
   "metadata": {
    "tags": []
   },
   "source": [
    "# Explore the datacube concept and associated tools"
   ]
  },
  {
   "cell_type": "code",
   "execution_count": null,
   "id": "f0b46440-888a-468d-a2c9-5d4b535b010e",
   "metadata": {},
   "outputs": [],
   "source": [
    "import datetime as dt\n",
    "from pathlib import Path\n",
    "\n",
    "from chaosmagpy.plot_utils import nio_colormap\n",
    "import intake\n",
    "import datashader\n",
    "import holoviews\n",
    "import hvplot\n",
    "import hvplot.xarray\n",
    "import numpy as np\n",
    "import pandas as pd\n",
    "import panel as pn\n",
    "import pooch\n",
    "import pyvista\n",
    "import xarray as xr\n",
    "\n",
    "pn.extension()\n",
    "pyvista.set_jupyter_backend(\"trame\")"
   ]
  },
  {
   "cell_type": "markdown",
   "id": "fb81bb8c-ed50-48bd-aaca-c1b3b2839ca3",
   "metadata": {},
   "source": [
    "## Download data to use locally"
   ]
  },
  {
   "cell_type": "markdown",
   "id": "d1b978fe-6b45-4b3e-b46f-68120b4afbda",
   "metadata": {},
   "source": [
    "[Pooch](https://www.fatiando.org/pooch/) is a great library for downloading data. Here we use Pooch to download a zip file, validating the download using the hash, and unzipping the data ready for use."
   ]
  },
  {
   "cell_type": "code",
   "execution_count": null,
   "id": "649d6fca-760c-4567-bbe3-c5ab0e5c377f",
   "metadata": {},
   "outputs": [],
   "source": [
    "# Describe data name and locations\n",
    "data_nc = {\n",
    "    \"path\": Path(\"data\"),\n",
    "    \"fname\": \"SwA_20140501-20190501_proc1.nc\",\n",
    "    \"url\": \"https://drive.google.com/uc?export=download&confirm=no_antivirus&id=1qX-j_QWx0OQTh1HLUlHHcWdNhFOsczyM\",\n",
    "    \"known_hash\": \"1b7a8cbc0cb1657f8d4444ae7f6bbab91841318e1a172fa1f8a487b9d9492912\",\n",
    "}\n",
    "\n",
    "data_zarr = {\n",
    "    \"path\": Path(\"data\"),\n",
    "    \"fname\": \"datacube_test_SwA.zarr\",\n",
    "    \"url\": \"https://drive.google.com/uc?export=download&confirm=no_antivirus&id=1a9ZhNuzBqCAjMzuwGG3MYw7MbJxNjMB_\",\n",
    "    \"known_hash\": \"ab10b795320820d076f8741fad0aff415e8bd1c59997225c20ce69a25d3e3bdf\",\n",
    "}\n",
    "\n",
    "\n",
    "def download_data(data=data_zarr, needs_unzip=False):\n",
    "    \"\"\"Download the data if we don't already have it\"\"\"\n",
    "    full_path = data[\"path\"] / data[\"fname\"]\n",
    "    if full_path.exists():\n",
    "        print(f\"Already found file: {full_path}\")\n",
    "    else:\n",
    "        pooch.retrieve(\n",
    "            url=data[\"url\"],\n",
    "            known_hash=data[\"known_hash\"],\n",
    "            path=data[\"path\"],\n",
    "            fname=f'{data[\"fname\"]}.zip' if needs_unzip else data[\"fname\"],\n",
    "            progressbar=True,\n",
    "            processor=pooch.Unzip(extract_dir=data[\"fname\"]) if needs_unzip else None,\n",
    "        )\n",
    "    return full_path\n",
    "\n",
    "\n",
    "data_path = download_data(data=data_nc, needs_unzip=False)\n",
    "data_path = download_data(data=data_zarr, needs_unzip=True)"
   ]
  },
  {
   "cell_type": "markdown",
   "id": "3b4c7c6e-1378-4b73-8ed9-de22930cb6cf",
   "metadata": {},
   "source": [
    "## Open data using intake"
   ]
  },
  {
   "cell_type": "markdown",
   "id": "b0f90e7c-382f-46ad-a6b4-963eccc9ec76",
   "metadata": {},
   "source": [
    "We could open the dataset using xarray directly like:\n",
    "\n",
    "```python\n",
    "ds = xr.open_dataset(data_path, engine=\"zarr\", mode=\"r\")\n",
    "```"
   ]
  },
  {
   "cell_type": "code",
   "execution_count": null,
   "id": "3e9aff5b-e80d-4c9b-9229-a223ef6a9116",
   "metadata": {},
   "outputs": [],
   "source": [
    "cat = intake.open_catalog('catalog.yml')\n",
    "list(cat)"
   ]
  },
  {
   "cell_type": "code",
   "execution_count": null,
   "id": "ecf1771d-6ae9-457d-9e2e-d7bbf6bc9f65",
   "metadata": {},
   "outputs": [],
   "source": [
    "cat.datacube_local_A.container"
   ]
  },
  {
   "cell_type": "code",
   "execution_count": null,
   "id": "dea94b89-7ec5-46ba-8d67-3b88dc109fe9",
   "metadata": {},
   "outputs": [],
   "source": [
    "ds = cat.datacube_local_A.read_chunked()\n",
    "ds"
   ]
  },
  {
   "cell_type": "markdown",
   "id": "8e5eb50a-64e4-4d8b-9543-1cd5ec2193b0",
   "metadata": {},
   "source": [
    "### Simplify the dataset"
   ]
  },
  {
   "cell_type": "markdown",
   "id": "ea6092e0-2366-4a83-8ac6-9a0a5f25b865",
   "metadata": {},
   "source": [
    "Having all the different variables in there at once makes it a bit noisy. Let's just look at a subset of the dataset:"
   ]
  },
  {
   "cell_type": "code",
   "execution_count": null,
   "id": "51e5a46f-106c-43b2-a443-896f37ab97e3",
   "metadata": {},
   "outputs": [],
   "source": [
    "# Select particular data variables to be explored\n",
    "ds = ds[\n",
    "    [\n",
    "        \"B_NEC\", \"B_NEC_res_CHAOS-full\",\n",
    "        \"Latitude\", \"Longitude\", \"MLT\", \"QDLat\"\n",
    "    ]\n",
    "]\n",
    "# Remove the metadata to reduce the clutter\n",
    "ds.attrs = {}\n",
    "ds"
   ]
  },
  {
   "cell_type": "markdown",
   "id": "fe320707-8915-491d-95bb-df2042d9fcbe",
   "metadata": {},
   "source": [
    "This dataset contains data/measurements:  \n",
    "`\"B_NEC\"`, the magnetic vector, $B_{NEC}^{measured}$ in the NEC frame (North, East, Center)    \n",
    "and data-model residuals:  \n",
    "`\"B_NEC_res_CHAOS-full\"` = $B_{NEC}^{measured}$ - $B_{NEC}^{modelled}$, using the [CHAOS magnetic field model](http://www.spacecenter.dk/files/magnetic-models/CHAOS-7/)\n",
    "\n",
    "These data are downsampled to 10-second resolution from the [original 1Hz dataset](https://swarmhandbook.earth.esa.int/catalogue/SW_MAGx_LR_1B) which themselves are derived from [50Hz measurements](https://swarmhandbook.earth.esa.int/catalogue/SW_MAGx_HR_1B). A sample between May 2014 and May 2019 has been prepared.\n"
   ]
  },
  {
   "cell_type": "markdown",
   "id": "5bc740f5-85ae-4d93-b5db-a8527dac4303",
   "metadata": {},
   "source": [
    "## Visualise data with hvPlot"
   ]
  },
  {
   "cell_type": "markdown",
   "id": "cb314ee6-0901-4abb-b014-a7bb012145df",
   "metadata": {},
   "source": [
    "[hvPlot](https://hvplot.holoviz.org/) is part of the [HoloViz](https://holoviz.org) ecosystem. The role of hvPlot is to \"quickly return interactive HoloViews, GeoViews, or Panel objects from Pandas, Xarray, or other data structures\". HoloViz is quite sprawling but the aim is to provide a layered approach to data analysis and visualisation:\n",
    "\n",
    "<img src=\"https://holoviz.org/assets/shortcuts.png\" alt=\"holoviz-shorcuts\" style=\"width:50%;\"/>\n",
    "\n",
    "---\n",
    "\n",
    "<img src=\"https://hvplot.holoviz.org/assets/diagram.svg\" alt=\"hvplot-diagram\" style=\"width:50%;\"/>"
   ]
  },
  {
   "cell_type": "markdown",
   "id": "5c87730b-0369-436f-baf2-b3d59f0c1dc6",
   "metadata": {},
   "source": [
    "### Plot a time series"
   ]
  },
  {
   "cell_type": "markdown",
   "id": "48595f79-316a-46dd-b12d-6b7082541e99",
   "metadata": {},
   "source": [
    "The following will plot the time series of `B_NEC`...\n",
    "\n",
    "- Directly plotting the full dataset won't work well, so we can slice out one day using `.sel`\n",
    "- ... then we use the `.hvplot` accessor (this gets registered when we `import hvplot.xarray`)\n",
    "- ... and we select a line plot and specify what is on the x and y axes\n",
    "\n",
    "hvPlot automatically does different things depending on the dimensionality of the dataset. Here it adds a widget to select between the different dimensions of \"Spacecraft\" and \"NEC\"."
   ]
  },
  {
   "cell_type": "code",
   "execution_count": null,
   "id": "1a0aa983-96c5-40bf-a5bc-2beea5b2b8db",
   "metadata": {},
   "outputs": [],
   "source": [
    "(\n",
    "    ds\n",
    "    .sel(Timestamp=slice(\"2015-01-01\", \"2015-01-02\"))\n",
    "    .hvplot.line(x=\"Timestamp\", y=\"B_NEC\")\n",
    ")"
   ]
  },
  {
   "cell_type": "code",
   "execution_count": null,
   "id": "a2bf7304-07a2-4f45-b527-2d6cb4a8d738",
   "metadata": {},
   "outputs": [],
   "source": [
    "(\n",
    "    ds\n",
    "    .sel(Timestamp=slice(\"2015-01-01\", \"2015-01-02\"))\n",
    "    .hvplot.line(x=\"Timestamp\", y=\"B_NEC_res_CHAOS-full\")\n",
    ")"
   ]
  },
  {
   "cell_type": "markdown",
   "id": "58aded60-82aa-4e74-af6a-d7ace8f2639e",
   "metadata": {},
   "source": [
    "### Downsample the data"
   ]
  },
  {
   "cell_type": "markdown",
   "id": "22ececb6-7b02-4204-8f1f-8c37b3c33461",
   "metadata": {},
   "source": [
    "For the next plots, let's simplify by downsampling the data so we can work with data all in memory:"
   ]
  },
  {
   "cell_type": "code",
   "execution_count": null,
   "id": "e9282433-df4f-425a-8379-54ff103617e6",
   "metadata": {},
   "outputs": [],
   "source": [
    "# Dataset downsampled by 1/30 (i.e. 5-minute sampling)\n",
    "_ds = ds.isel(Timestamp=slice(0, -1, 30))\n",
    "# Remove the unused spacecraft dimension for simplicity\n",
    "_ds = _ds.squeeze(\"Spacecraft\").drop(\"Spacecraft\")"
   ]
  },
  {
   "cell_type": "code",
   "execution_count": null,
   "id": "902718d5-c798-42da-a304-3f6974355fa6",
   "metadata": {},
   "outputs": [],
   "source": [
    "_ds.load()"
   ]
  },
  {
   "cell_type": "markdown",
   "id": "d954701c-d764-4d2b-9fe1-87ad0ad59a9b",
   "metadata": {},
   "source": [
    "### Spatial plots"
   ]
  },
  {
   "cell_type": "markdown",
   "id": "52681b02-fb74-451b-847b-9dc54a050e0e",
   "metadata": {},
   "source": [
    "Let's look at the spatial variation. In these examples we will remove the time coordinates using `.drop` so that hvPlot does not do anything with them. Each figure shows how the three vector components ($B_C$, $B_E$, $B_N$) vary across the Earth."
   ]
  },
  {
   "cell_type": "code",
   "execution_count": null,
   "id": "1c90136e-32bc-4fb0-893e-f2bd43f831c3",
   "metadata": {},
   "outputs": [],
   "source": [
    "print(\"B_NEC: magnetic field measurements\")\n",
    "(\n",
    "    _ds\n",
    "    .drop(\"Timestamp\")  # Squash out time so we only look at spatial variation\n",
    "    .hvplot.scatter(\n",
    "        x=\"Longitude\", y=\"Latitude\", c=\"B_NEC\",  # Plot the geographic variation of magnetic field, B\n",
    "        by=\"NEC\", subplots=True,  # Make three plots, one for each vector direction\n",
    "        rasterize=True,  # Uses datashader to adaptively sample the dataset based on the current view\n",
    "        colorbar=True,\n",
    "        hover=True,\n",
    "        width=300, height=200,\n",
    "        clim=(-50000, 50000), cmap=nio_colormap()\n",
    "    )\n",
    ")"
   ]
  },
  {
   "cell_type": "code",
   "execution_count": null,
   "id": "d1d6bece-0ad7-463a-a293-b46c50a4624b",
   "metadata": {},
   "outputs": [],
   "source": [
    "print(\"B_NEC_res_CHAOS-full: The effect of removing the full CHAOS model, comprising core, magnetosphere, and lithosphere. i.e. mostly space weather signals remaining\")\n",
    "(\n",
    "    _ds\n",
    "    .drop(\"Timestamp\")\n",
    "    .hvplot.scatter(\n",
    "        x=\"Longitude\", y=\"Latitude\", c=\"B_NEC_res_CHAOS-full\",  # Plot the magnetic residual (perturbation) instead\n",
    "        by=\"NEC\", subplots=True,\n",
    "        rasterize=True,\n",
    "        colorbar=True,\n",
    "        hover=True,\n",
    "        width=300, height=200,\n",
    "        clim=(-50, 50), cmap=nio_colormap()  # Adjust scale down to +-50 nT\n",
    "    )\n",
    ")"
   ]
  },
  {
   "cell_type": "code",
   "execution_count": null,
   "id": "cd429fa3-87a8-48eb-a170-9c8945f383a3",
   "metadata": {},
   "outputs": [],
   "source": [
    "print(\"As above, but in QDLat / MLT coordinates (magnetic latitude and local time)\")\n",
    "(\n",
    "    _ds\n",
    "    .drop(\"Timestamp\")\n",
    "    .hvplot.scatter(\n",
    "        x=\"MLT\", y=\"QDLat\", c=\"B_NEC_res_CHAOS-full\",  # Plot against magnetic / local time coordinates\n",
    "        by=\"NEC\", subplots=True,\n",
    "        rasterize=True,\n",
    "        colorbar=True,\n",
    "        hover=True,\n",
    "        width=300, height=200,\n",
    "        clim=(-50, 50), cmap=nio_colormap()\n",
    "    )\n",
    ")"
   ]
  },
  {
   "cell_type": "markdown",
   "id": "9ec3a732-742c-491b-a28a-14ae8c50521b",
   "metadata": {},
   "source": [
    "This basically shows the part of the field which is unmodelled by CHAOS (principally the ionospheric field). The two-cell pattern across mid-latitudes in the daytime comes from the Sq system, and the large disturbances around the poles from field-aligned currents and auroral electrojets."
   ]
  },
  {
   "cell_type": "markdown",
   "id": "0d9c27f6-8221-4560-8270-84bf31d8ca73",
   "metadata": {},
   "source": [
    "### hvPlot Explorer"
   ]
  },
  {
   "cell_type": "markdown",
   "id": "4fd0e514-298b-49be-857a-fcf01140adea",
   "metadata": {},
   "source": [
    "Using complex calls like above are only possible with familiarity with both the data and hvplot. The [Explorer tool](https://hvplot.holoviz.org/user_guide/Explorer.html) aims to bridge this gap. Currently it only works with dataframes, so we have to first make the conversion.\n",
    "\n",
    "It shows promise but it's too easy to make selections that are too heavy to compute/display. Crucially, data must be arranged in a certain for these automatic visualisations to work / make sense."
   ]
  },
  {
   "cell_type": "code",
   "execution_count": null,
   "id": "e15db79e-e7e8-4c4a-bc77-41251f28c103",
   "metadata": {},
   "outputs": [],
   "source": [
    "# (we could use .to_dataframe() but let's simplify the data for this case)\n",
    "_df = pd.DataFrame(\n",
    "    data={\n",
    "        \"B_C\": _ds[\"B_NEC\"].sel(NEC=\"C\"),\n",
    "        \"Latitude\": _ds[\"Latitude\"],\n",
    "        \"Longitude\": _ds[\"Longitude\"],\n",
    "    },\n",
    "    index=_ds[\"Timestamp\"]\n",
    ")\n",
    "_df.index.name = \"Timestamp\""
   ]
  },
  {
   "cell_type": "code",
   "execution_count": null,
   "id": "46860563-358c-48f3-919e-eed01d86d48b",
   "metadata": {},
   "outputs": [],
   "source": [
    "explorer = hvplot.explorer(_df)\n",
    "explorer"
   ]
  },
  {
   "cell_type": "markdown",
   "id": "ca897518-a02c-4435-9b06-360422837d91",
   "metadata": {},
   "source": [
    "To make some plots that are more meaningful, try selecting:\n",
    "\n",
    "> `Fields/Kind`: scatter  \n",
    "> `Fields/X`: Latitude  \n",
    "> `Fields/y`: B_C\n",
    "\n",
    "or\n",
    "\n",
    "> `Fields/Kind`: scatter  \n",
    "> `Fields/X`: Longitude  \n",
    "> `Fields/y`: Latitude  \n",
    "> `Operations/Rasterize`  \n",
    "> `Colormapping/Color`: B_C\n",
    "\n",
    "Now you can extract code to reproduce the custom plot you have built:"
   ]
  },
  {
   "cell_type": "code",
   "execution_count": null,
   "id": "83dbd504-5e36-4ec8-9119-b17a0505cf44",
   "metadata": {},
   "outputs": [],
   "source": [
    "explorer.plot_code()"
   ]
  },
  {
   "cell_type": "markdown",
   "id": "c463239c-8ee1-42e6-8568-bdf18cda337a",
   "metadata": {},
   "source": [
    "### 3D visualisation with PyVista"
   ]
  },
  {
   "cell_type": "markdown",
   "id": "0f3cc09f-448a-43a8-8cd2-a68a95a6c8fe",
   "metadata": {},
   "source": [
    "[PyVista](https://docs.pyvista.org/version/stable/index.html) is one of several choices for 3D visualisation. Let's use it to attach one of those spatial plots onto a globe. (Some shortcuts are taken here...)\n",
    "\n",
    "First let's set up a data array that we will visualise. We'll go back to the full dataset, `ds`. (in this case, without trying interative plots like above, the larger data volume is less of a problem)"
   ]
  },
  {
   "cell_type": "code",
   "execution_count": null,
   "id": "bcbe1ad0-4060-4f18-9033-1edcf7e32b54",
   "metadata": {},
   "outputs": [],
   "source": [
    "_ds = ds.squeeze(\"Spacecraft\").drop(\"Spacecraft\").unify_chunks()"
   ]
  },
  {
   "cell_type": "code",
   "execution_count": null,
   "id": "9af63a12-93fb-44f0-a4b3-bb68c9721960",
   "metadata": {},
   "outputs": [],
   "source": [
    "# _da = _ds[\"B_NEC\"].sel(NEC=\"C\").drop(\"NEC\")\n",
    "_da = _ds[\"B_NEC_res_CHAOS-full\"].sel(NEC=\"C\").drop(\"NEC\")\n",
    "_da.name = \"B_C\"\n",
    "_da = _da.assign_coords(\n",
    "    {\n",
    "        \"Latitude\": _ds[\"Latitude\"],\n",
    "        \"Longitude\": _ds[\"Longitude\"],\n",
    "        \"MLT\": _ds[\"MLT\"],\n",
    "        \"QDLat\": _ds[\"QDLat\"],\n",
    "    }\n",
    ")\n",
    "_da"
   ]
  },
  {
   "cell_type": "markdown",
   "id": "1c62ac65-9a23-42c7-bb1a-614114d17df1",
   "metadata": {},
   "source": [
    "Now we use [Datashader](https://datashader.org/) to generate a raster from the data. Datashader aggregates data at each pixel location using a given method (in this case, evaluating the mean)."
   ]
  },
  {
   "cell_type": "code",
   "execution_count": null,
   "id": "23dbed11-83c1-4dc2-ba6d-57f63119db77",
   "metadata": {},
   "outputs": [],
   "source": [
    "cvs = datashader.Canvas(plot_width=1000, plot_height=500)\n",
    "# agg = cvs.points(_da, x=\"Longitude\", y=\"Latitude\", agg=datashader.mean(\"B_C\"))\n",
    "agg = cvs.points(_da, x=\"MLT\", y=\"QDLat\", agg=datashader.mean(\"B_C\"))\n",
    "img = datashader.transfer_functions.shade(agg, cmap=nio_colormap())\n",
    "img"
   ]
  },
  {
   "cell_type": "markdown",
   "id": "38e27102-d6ab-4936-8e6f-995c1e6bbda5",
   "metadata": {},
   "source": [
    "This is the same image as one of the plots above but is made more intense because more data is included and a smoother mean is found at each pixel location."
   ]
  },
  {
   "cell_type": "code",
   "execution_count": null,
   "id": "7c3d4544-54be-4d88-8beb-85c7c3833f41",
   "metadata": {},
   "outputs": [],
   "source": [
    "# Convert the DataShader image to a NumPy array and separate the RGBA channels\n",
    "img_data = np.array(img, dtype=np.uint32)\n",
    "r = np.bitwise_and(img_data, 0x000000FF).astype(np.uint8)\n",
    "g = np.right_shift(np.bitwise_and(img_data, 0x0000FF00), 8).astype(np.uint8)\n",
    "b = np.right_shift(np.bitwise_and(img_data, 0x00FF0000), 16).astype(np.uint8)\n",
    "a = np.right_shift(np.bitwise_and(img_data, 0xFF000000), 24).astype(np.uint8)\n",
    "# Stack the RGB channels into a 3D array (ignoring the alpha channel)\n",
    "texture_data = np.dstack((r, g, b))"
   ]
  },
  {
   "cell_type": "markdown",
   "id": "7b76bd7f-327a-437c-9d80-160452d7a9a5",
   "metadata": {},
   "source": [
    "Map the raster above onto a sphere and display it."
   ]
  },
  {
   "cell_type": "code",
   "execution_count": null,
   "id": "d06a528c-f61b-4e9b-a085-499fb35628bd",
   "metadata": {},
   "outputs": [],
   "source": [
    "# Create a PyVista mesh and apply the texture\n",
    "mesh = pyvista.Sphere()\n",
    "mesh.texture_map_to_sphere(inplace=True, prevent_seam=False)\n",
    "mesh.textures[\"data_texture\"] = pyvista.numpy_to_texture(texture_data)\n",
    "# Visualize the mesh with the texture in PyVista\n",
    "plotter = pyvista.Plotter()\n",
    "plotter.add_mesh(mesh)#, texture=\"data_texture\")\n",
    "plotter.show()"
   ]
  },
  {
   "cell_type": "markdown",
   "id": "067c91f6-a1d0-4528-97da-a0c3636b24cd",
   "metadata": {},
   "source": [
    "(still some work to do here to fix that seam!)"
   ]
  },
  {
   "cell_type": "markdown",
   "id": "2f9772dc-3fc0-457d-a6d5-f9b9c3f26fb3",
   "metadata": {},
   "source": [
    "## To the cloud!"
   ]
  },
  {
   "cell_type": "markdown",
   "id": "dfe2d46c-7fbc-45a9-9294-04d05ba1ea9d",
   "metadata": {},
   "source": [
    "To try next: using a zarr remotely from S3 (add it to the intake catalog)"
   ]
  }
 ],
 "metadata": {
  "kernelspec": {
   "display_name": "Python [conda env:geomagcubes2]",
   "language": "python",
   "name": "conda-env-geomagcubes2-py"
  },
  "language_info": {
   "codemirror_mode": {
    "name": "ipython",
    "version": 3
   },
   "file_extension": ".py",
   "mimetype": "text/x-python",
   "name": "python",
   "nbconvert_exporter": "python",
   "pygments_lexer": "ipython3",
   "version": "3.10.11"
  },
  "toc-autonumbering": false,
  "toc-showcode": false,
  "toc-showmarkdowntxt": false,
  "toc-showtags": false
 },
 "nbformat": 4,
 "nbformat_minor": 5
}
